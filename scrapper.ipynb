{
 "cells": [
  {
   "cell_type": "markdown",
   "metadata": {},
   "source": [
    "### Importowanie pakietów\n",
    "\n"
   ]
  },
  {
   "cell_type": "code",
   "execution_count": 10,
   "metadata": {},
   "outputs": [],
   "source": [
    "import os\n",
    "import json\n",
    "import requests\n",
    "from bs4 import BeautifulSoup"
   ]
  },
  {
   "cell_type": "markdown",
   "metadata": {},
   "source": [
    "### Wyslanie żadania dostepu do strony internetowej z opiniami o produkcie "
   ]
  },
  {
   "cell_type": "code",
   "execution_count": null,
   "metadata": {},
   "outputs": [],
   "source": [
    "with open (\"/headers.json\",\"r\") as jf:\n",
    "    headers = json.load(jf)\n"
   ]
  },
  {
   "cell_type": "code",
   "execution_count": null,
   "metadata": {},
   "outputs": [],
   "source": [
    "product_id = \"84514582\"\n",
    "url = \"https://www.ceneo.pl/84514582#tab=reviews\"\n",
    "all_opinions = []\n",
    "response = requests.get(url,headers=headers)\n",
    "response.status_code"
   ]
  },
  {
   "cell_type": "markdown",
   "metadata": {},
   "source": [
    "### Jeżeli operacja zakończy sie powodzeniem"
   ]
  },
  {
   "cell_type": "code",
   "execution_count": 13,
   "metadata": {},
   "outputs": [],
   "source": [
    "if response.status_code == 200:\n",
    "    page_dom = BeautifulSoup(response.text, \"html.parser\")\n",
    "    opinions = page_dom.select(\"div.js_product-review:not(.user-post--highlight)\")"
   ]
  },
  {
   "cell_type": "markdown",
   "metadata": {},
   "source": [
    "### Dla każdej opinii wyodrębnienie z kodu HTML poszzczególnych skladowych i przypisanie ich do elementów złożonej struktury danych"
   ]
  },
  {
   "cell_type": "code",
   "execution_count": null,
   "metadata": {},
   "outputs": [],
   "source": [
    "for opinion in opinions:\n",
    "    try:\n",
    "        single_opinion = {\n",
    "            \"author\": opinion.select_one(\"span.user-post__author-name\").text.strip(),\n",
    "            \"recomendation\":opinion.select_one(\"span.user-post__author-recomendation > em\").text.strip(),\n",
    "            \"stars\":opinion.select_one(\"span.user-post__score-count\").text.strip(),\n",
    "            \"content\":opinion.select_one(\"div.user-post__text\").text.strip(),\n",
    "            \"pros\":[p.text.strip() for p in opinion.select_one(\"div.review-feature__item--positive\")],\n",
    "            \"cons\":[c.text.strip() for c in opinion.select_one(\"div.review-feature__item--negative\")],\n",
    "            \"useful\":opinion.select_one(\"button.vote-yes > span\").text.strip(),\n",
    "            \"useless\":opinion.select_one(\"button.vote-no > span\").text.strip(),\n",
    "            \"post_date\":opinion.select_one(\"span.user-post__published > time:nth-child(1)[datetime]\").text.strip(),\n",
    "            \"purchase_date\":opinion.select_one(\"span.user-post__published > time:nth-child(2)[datetime]\").text.strip(),\n",
    "        }\n",
    "        all_opinions.append(single_opinion)\n",
    "\n",
    "    except (AttributeError, TypeError):\n",
    "        pass"
   ]
  },
  {
   "cell_type": "code",
   "execution_count": null,
   "metadata": {},
   "outputs": [],
   "source": [
    "print(type(single_opinion[\"author\"]))\n"
   ]
  },
  {
   "cell_type": "markdown",
   "metadata": {},
   "source": [
    "### Jeśli istnieje kolejna strona z opiniami, przejscie do niej i powtórzenie dla niej kroków 1-4 \n"
   ]
  },
  {
   "cell_type": "code",
   "execution_count": null,
   "metadata": {},
   "outputs": [],
   "source": [
    "product_id = \"84514582\"\n",
    "next_page = \"https://www.ceneo.pl/84514582#tab=reviews\"\n",
    "all_opinions = []\n",
    "while next_page:\n",
    "    response = requests.get(next_page, headers=headers)\n",
    "    if response.status_code == 200:\n",
    "        page_dom = BeautifulSoup(response.text, \"html.parser\")\n",
    "        opinions = page_dom.select(\"div.js_product-review:not(.user-post--highlight)\")\n",
    "        for opinion in opinions:\n",
    "             try:\n",
    "                single_opinion = {\n",
    "                    \"author\": opinion.select_one(\"span.user-post__author-name\").text.strip(),\n",
    "                    \"recomendation\":opinion.select_one(\"span.user-post__author-recomendation > em\").text.strip(),\n",
    "                    \"stars\":opinion.select_one(\"span.user-post__score-count\").text.strip(),\n",
    "                    \"content\":opinion.select_one(\"div.user-post__text\").text.strip(),\n",
    "                    \"pros\":[p.text.strip() for p in opinion.select_one(\"div.review-feature__item--positive\")],\n",
    "                    \"cons\":[c.text.strip() for c in opinion.select_one(\"div.review-feature__item--negative\")],\n",
    "                    \"useful\":opinion.select_one(\"button.vote-yes > span\").text.strip(),\n",
    "                    \"useless\":opinion.select_one(\"button.vote-no > span\").text.strip(),\n",
    "                    \"post_date\":opinion.select_one(\"span.user-post__published > time:nth-child(1)[datetime]\").strip(),\n",
    "                    \"purchase_date\":opinion.select_one(\"span.user-post__published > time:nth-child(2)[datetime]\").strip(),\n",
    "                }\n",
    "                all_opinions.append(single_opinion)\n",
    "             except (AttributeError, TypeError):\n",
    "                pass\n",
    "             try:\n",
    "                next_page = \"https://www.ceneo.pl/\"\n",
    "                page_dom.select_one(\"a.pagination__next\")[\"href\"]\n",
    "             except TypeError:\n",
    "                next_page = None\n",
    "else: print (response.status_code)\n"
   ]
  },
  {
   "cell_type": "markdown",
   "metadata": {},
   "source": [
    "### Zapisywanie wyników do bazy danych "
   ]
  },
  {
   "cell_type": "code",
   "execution_count": null,
   "metadata": {},
   "outputs": [],
   "source": [
    "if not os.path.exists(\"./opinions\"):\n",
    "    os.mkdir(\"./opinions\")"
   ]
  },
  {
   "cell_type": "code",
   "execution_count": null,
   "metadata": {},
   "outputs": [],
   "source": [
    "with open(f'./opinions{product_id}.json',\"W\",encoding=\"utf-8\") as jf:\n",
    "     json.dump(all_opinions, jf, ensure_ascii=False, indent=4)"
   ]
  }
 ],
 "metadata": {
  "kernelspec": {
   "display_name": ".venv",
   "language": "python",
   "name": "python3"
  },
  "language_info": {
   "codemirror_mode": {
    "name": "ipython",
    "version": 3
   },
   "file_extension": ".py",
   "mimetype": "text/x-python",
   "name": "python",
   "nbconvert_exporter": "python",
   "pygments_lexer": "ipython3",
   "version": "3.11.4"
  }
 },
 "nbformat": 4,
 "nbformat_minor": 2
}
