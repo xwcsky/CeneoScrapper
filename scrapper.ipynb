{
 "cells": [
  {
   "cell_type": "markdown",
   "metadata": {},
   "source": [
    "### Importowanie bibliotek\n"
   ]
  },
  {
   "cell_type": "code",
   "execution_count": 10,
   "metadata": {},
   "outputs": [],
   "source": [
    "import requests\n",
    "from bs4 import BeautifulSoup"
   ]
  },
  {
   "cell_type": "markdown",
   "metadata": {},
   "source": [
    "### Wyslanie żadania dostepu do strony internetowej z opiniami o produkcie "
   ]
  },
  {
   "cell_type": "code",
   "execution_count": 6,
   "metadata": {},
   "outputs": [
    {
     "data": {
      "text/plain": [
       "200"
      ]
     },
     "execution_count": 6,
     "metadata": {},
     "output_type": "execute_result"
    }
   ],
   "source": [
    "url = \"https://www.ceneo.pl/84514582#tab=reviews\"\n",
    "response = requests.get(url)\n",
    "response.status_code"
   ]
  },
  {
   "cell_type": "markdown",
   "metadata": {},
   "source": [
    "### Jeżeli operacja zakończy sie powodzeniem"
   ]
  },
  {
   "cell_type": "code",
   "execution_count": 13,
   "metadata": {},
   "outputs": [],
   "source": [
    "if response.status_code == 200:\n",
    "    page_dom = BeautifulSoup(response.text, \"html.parser\")\n",
    "    opinions = page_dom.select(\"div.js_product-review:not(.user-post--highlight)\")"
   ]
  },
  {
   "cell_type": "markdown",
   "metadata": {},
   "source": [
    "### Dla każdej opinii wyodrębnienie z kodu HTML poszzczególnych skladowych i przypisanie ich do elementów złożonej struktury danych"
   ]
  },
  {
   "cell_type": "code",
   "execution_count": 30,
   "metadata": {},
   "outputs": [
    {
     "name": "stdout",
     "output_type": "stream",
     "text": [
      "{'author': 'b...a', 'recomendation': 'Polecam', 'stars': '4/5', 'content': 'Wykonana dobrze, trochę za duża, z ledwością mieści mi się na biurku, ale może być. Drukuje ciszej w porównaniu z poprzednią drukarką HP 209a. Napełniłam tusze do pełna i po ok.10 kartkach ubyło mi 4 mm czarnego tuszu w pojemniku. Mam nadzieję, że będzie wydajna. Na razie nie mogę tego stwierdzić. Fajnie, że można zobaczyć, ile ubyło tuszu. Dolewanie jest banalnie proste, tusz nie wylewa się. Martwi mnie tylko, że przenosić trzeba ją w pozycji poziomej, bo inaczej tusz może się wylewać. Ogólnie jestem zadowolona z zakupu.', 'pros': <generator object <genexpr> at 0x00000191917D1220>, 'cons': None, 'useful': '2', 'useless': '3', 'post_date': '5 lat temu,', 'purchase_date': 'po 6 dniach'}\n",
      "{'author': 'U...o', 'recomendation': 'Polecam', 'stars': '4,5/5', 'content': 'Po 1 dniu uzytkowania mozna stwierdzic 1-polaczenie z kompem poprzez wi fi-bez problemu\\n2-tankowanie zbiorniczkow-bez problemu\\n3-montaz ,,glowic,,-beznadziejny dostep,jakies pomaranczowe badziewie ciezko wydostac z wnetrza drukarki(po cholere takie zabezpieczenie)ale udalo sie\\n4-polaczenie z telefonem -bez problemu\\n5-jak z kompa tak i z telefonu(za posrednictwem aplikacji  HP SMART) bez problemow\\n6-druk na zwyklym papierze spoko (czern i kolor )\\n7-po testach na papierze foto -zobaczymy\\n8-ogolnie -za taka kase polecam', 'pros': <generator object <genexpr> at 0x00000191917D0E10>, 'cons': <div class=\"review-feature__item review-feature__item--negative\" data-new-icon=\"minus\">głośność pracy</div>, 'useful': '0', 'useless': '0', 'post_date': '2 lata temu,', 'purchase_date': 'po 3 dniach'}\n",
      "{'author': 'Użytkownik Ceneo', 'recomendation': 'Polecam', 'stars': '4/5', 'content': 'Bardzo wydajna i oszczędna drukarka. Solidna, dobra jakość wykonania.\\nDługo się czeka przy włączeniu zanim będzie gotowa do pracy. Dość głośna.', 'pros': <generator object <genexpr> at 0x00000191917D1CB0>, 'cons': <div class=\"review-feature__item review-feature__item--negative\" data-new-icon=\"minus\">głośność pracy</div>, 'useful': '1', 'useless': '1', 'post_date': '4 lata temu,', 'purchase_date': 'po miesiącu'}\n"
     ]
    }
   ],
   "source": [
    "for opinion in opinions:\n",
    "    try:\n",
    "        single_opinion = {\n",
    "            \"author\": opinion.select_one(\"span.user-post__author-name\").text.strip(),\n",
    "            \"recomendation\":opinion.select_one(\"span.user-post__author-recomendation > em\").text.strip(),\n",
    "            \"stars\":opinion.select_one(\"span.user-post__score-count\").text.strip(),\n",
    "            \"content\":opinion.select_one(\"div.user-post__text\").text.strip(),\n",
    "            \"pros\":(p.text.strip() for p in opinion.select_one(\"div.review-feature__item--positive\")),\n",
    "            \"cons\":(c.text.strip() for c in opinion.select_one(\"div.review-feature__item--negative\")),\n",
    "            \"useful\":opinion.select_one(\"button.vote-yes > span\").text.strip(),\n",
    "            \"useless\":opinion.select_one(\"button.vote-no > span\").text.strip(),\n",
    "            \"post_date\":opinion.select_one(\"span.user-post__published > time:nth-child(1)[datetime]\").text.strip(),\n",
    "            \"purchase_date\":opinion.select_one(\"span.user-post__published > time:nth-child(2)[datetime]\").text.strip(),\n",
    "        }\n",
    "        print(single_opinion)\n",
    "    except (AttributeError, TypeError):\n",
    "        pass"
   ]
  },
  {
   "cell_type": "code",
   "execution_count": 17,
   "metadata": {},
   "outputs": [
    {
     "name": "stdout",
     "output_type": "stream",
     "text": [
      "<class 'str'>\n"
     ]
    }
   ],
   "source": [
    "print(type(single_opinion[\"author\"]))"
   ]
  }
 ],
 "metadata": {
  "kernelspec": {
   "display_name": ".venv",
   "language": "python",
   "name": "python3"
  },
  "language_info": {
   "codemirror_mode": {
    "name": "ipython",
    "version": 3
   },
   "file_extension": ".py",
   "mimetype": "text/x-python",
   "name": "python",
   "nbconvert_exporter": "python",
   "pygments_lexer": "ipython3",
   "version": "3.11.4"
  }
 },
 "nbformat": 4,
 "nbformat_minor": 2
}
