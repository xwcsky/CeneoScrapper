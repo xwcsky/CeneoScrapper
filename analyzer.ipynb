{
 "cells": [
  {
   "cell_type": "markdown",
   "metadata": {},
   "source": [
    "### Import pakietów\n"
   ]
  },
  {
   "cell_type": "code",
   "execution_count": 41,
   "metadata": {},
   "outputs": [],
   "source": [
    "import os\n",
    "import pandas as pd\n",
    "import numpy as np\n",
    "from matplotlib import pyplot as plt"
   ]
  },
  {
   "cell_type": "code",
   "execution_count": null,
   "metadata": {},
   "outputs": [],
   "source": [
    "print(*[filename.split(\".\")[0] for filename in os.listdir(\"./opinions\")], sep=\"\\n\")"
   ]
  },
  {
   "cell_type": "code",
   "execution_count": 22,
   "metadata": {},
   "outputs": [],
   "source": [
    "product_id =  input(\"Podaj kod produktu: \")"
   ]
  },
  {
   "cell_type": "code",
   "execution_count": null,
   "metadata": {},
   "outputs": [],
   "source": [
    "opinions = pd.read_json(f\"./opinions/{product_id}.json\")\n",
    "opinions"
   ]
  },
  {
   "cell_type": "code",
   "execution_count": null,
   "metadata": {},
   "outputs": [],
   "source": [
    "opinions.stars = opinions.stars.apply(lambda s: s.split(\"/\")[0].replace(\",\",\".\")).astype(float)\n",
    "opinions.useful = opinions.useful.astype(int)\n",
    "opinions.unuseful = opinions.unuseful.astype(int)\n",
    "opinions"
   ]
  },
  {
   "cell_type": "markdown",
   "metadata": {},
   "source": [
    "### Podstawowe statystyki "
   ]
  },
  {
   "cell_type": "code",
   "execution_count": null,
   "metadata": {},
   "outputs": [],
   "source": [
    "opinions_count = opinions.shape[0]\n",
    "pros_count = opinions.pros.astype(bool).sum()\n",
    "cons_count = opinions.cons.astype(bool).sum()\n",
    "average_stars = opinions.stars.mean()\n",
    "pros_cons_count = opinions.apply(lambda o: bool(o.pros) and bool(o.cons), axis = 1).sum()\n",
    "print(f\"Liczba opini o produkcie: {opinions_count}\")\n",
    "print(f\"Liczba opini z podaną liczbą zalet: {pros_count}\")\n",
    "print(f\"Liczba opini z podaną liczbą wad: {cons_count}\")\n",
    "print(f\"Liczba opini z podaną liczbą zalet i wad: {pros_cons_count}\")\n",
    "print(f\"Średnia ocena produktu: {average_stars:.3}\")"
   ]
  },
  {
   "cell_type": "code",
   "execution_count": null,
   "metadata": {},
   "outputs": [],
   "source": [
    "pros = opinions.pros.explode().dropna().value_counts\n",
    "cons = opinions.cons.explode().dropna().value_counts\n",
    "print(f\"Lista unikatowych zalet: {pros}\")\n",
    "print(f\"Lista unikatowych wad: {cons}\")\n"
   ]
  },
  {
   "cell_type": "markdown",
   "metadata": {},
   "source": [
    "### Wykresy"
   ]
  },
  {
   "cell_type": "code",
   "execution_count": 42,
   "metadata": {},
   "outputs": [
    {
     "data": {
      "text/plain": [
       "recommendation\n",
       "Polecam        51\n",
       "Nie polecam     1\n",
       "Name: count, dtype: int64"
      ]
     },
     "execution_count": 42,
     "metadata": {},
     "output_type": "execute_result"
    }
   ],
   "source": [
    "recommendation = opinions.recommendation.value_counts(dropna=False).reindex(\"Nie polecam\", \"Polecam\", None),fill_value = 0 }\n",
    "recommendation"
   ]
  },
  {
   "cell_type": "code",
   "execution_count": 50,
   "metadata": {},
   "outputs": [
    {
     "data": {
      "text/plain": [
       "<Axes: title={'center': 'Rozkład rekomendacji w opiniach o produkcie 110556593'}>"
      ]
     },
     "execution_count": 50,
     "metadata": {},
     "output_type": "execute_result"
    },
    {
     "data": {
      "image/png": "[encoded data removed]",
      "text/plain": [
       "<Figure size 640x480 with 1 Axes>"
      ]
     },
     "metadata": {},
     "output_type": "display_data"
    }
   ],
   "source": [
    "\n",
    "recommendation.plot.pie(\n",
    "    label=\"\",\n",
    "    title = f\"Rozkład rekomendacji w opiniach o produkcie {product_id}\",\n",
    "    labels = [\"Nie polecam\", \"Polecam\", \"Nie mam zdania\"]\n",
    "    colors = [\"forestgreen\", \"crimson\"]\n",
    "    )"
   ]
  }
 ],
 "metadata": {
  "kernelspec": {
   "display_name": ".venv",
   "language": "python",
   "name": "python3"
  },
  "language_info": {
   "codemirror_mode": {
    "name": "ipython",
    "version": 3
   },
   "file_extension": ".py",
   "mimetype": "text/x-python",
   "name": "python",
   "nbconvert_exporter": "python",
   "pygments_lexer": "ipython3",
   "version": "3.11.4"
  }
 },
 "nbformat": 4,
 "nbformat_minor": 2
}
